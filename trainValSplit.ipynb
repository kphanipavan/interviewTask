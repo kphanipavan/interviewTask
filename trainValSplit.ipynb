{
 "cells": [
  {
   "cell_type": "code",
   "execution_count": 41,
   "id": "ef795ff3",
   "metadata": {},
   "outputs": [],
   "source": [
    "import os\n",
    "import random as rd\n",
    "import debugPrint as dp\n",
    "import pandas as pd\n",
    "from tqdm.auto import tqdm"
   ]
  },
  {
   "cell_type": "code",
   "execution_count": 42,
   "id": "68030fe6",
   "metadata": {},
   "outputs": [],
   "source": [
    "trainValFolder = './train_val/'\n",
    "ext = 'png'\n",
    "trainFolder='./train/'\n",
    "valFolder='./val/'\n",
    "labels = pd.read_csv('train_val.csv')"
   ]
  },
  {
   "cell_type": "code",
   "execution_count": 43,
   "id": "58771f09",
   "metadata": {},
   "outputs": [
    {
     "name": "stdout",
     "output_type": "stream",
     "text": [
      "\u001b[94m[i] Found 1000 images \u001b[0m\n",
      "\u001b[94m[i] Classes: {'pie', 'line', 'hbar_categorical', 'vbar_categorical', 'dot_line'} \u001b[0m\n"
     ]
    }
   ],
   "source": [
    "imgs = os.listdir(trainValFolder)\n",
    "dp.debug('Found '+str(len(imgs))+' images')\n",
    "dp.debug('Classes: '+str(set(labels['type'])))"
   ]
  },
  {
   "cell_type": "code",
   "execution_count": 44,
   "id": "bf49ce66",
   "metadata": {},
   "outputs": [
    {
     "data": {
      "application/vnd.jupyter.widget-view+json": {
       "model_id": "2e90dda9aff74610b9ee9ed8843d25d8",
       "version_major": 2,
       "version_minor": 0
      },
      "text/plain": [
       "  0%|          | 0/1000 [00:00<?, ?it/s]"
      ]
     },
     "metadata": {},
     "output_type": "display_data"
    }
   ],
   "source": [
    "splitDict={'vbar_categorical':[], 'hbar_categorical':[], 'line':[], 'pie':[], 'dot_line':[]}\n",
    "for i in tqdm(range(len(imgs))):\n",
    "    splitDict[labels['type'][i]].append(labels['image_index'][i])\n",
    "# print(splitDict)"
   ]
  },
  {
   "cell_type": "code",
   "execution_count": 45,
   "id": "e7c246b8",
   "metadata": {},
   "outputs": [
    {
     "name": "stdout",
     "output_type": "stream",
     "text": [
      "200 170 30\n",
      "170\n",
      "170\n",
      "170\n",
      "170\n",
      "170\n"
     ]
    }
   ],
   "source": [
    "train={'imgIndex':[], 'label':[]}\n",
    "val={'imgIndex':[], 'label':[]}\n",
    "total = 200\n",
    "tr=int(total*0.85)\n",
    "vl = total-tr\n",
    "print(total, tr, vl)\n",
    "for cls in list(set(labels['type'])):\n",
    "    for i in range(vl):\n",
    "        while (randomChoise := rd.choice(splitDict[cls])) in val['imgIndex']:\n",
    "            pass\n",
    "        val['imgIndex'].append(randomChoise)\n",
    "        splitDict[cls].remove(val['imgIndex'][-1])\n",
    "        val['label'].append(cls)\n",
    "    print(len(splitDict[cls]))\n",
    "    train['imgIndex'].extend(splitDict[cls])\n",
    "    train['label'].extend([cls]*tr)"
   ]
  },
  {
   "cell_type": "code",
   "execution_count": 46,
   "id": "e9dbf1c5",
   "metadata": {},
   "outputs": [],
   "source": [
    "train=pd.DataFrame(train)\n",
    "val=pd.DataFrame(val)"
   ]
  },
  {
   "cell_type": "code",
   "execution_count": 39,
   "id": "a3a4bf06",
   "metadata": {},
   "outputs": [],
   "source": [
    "val.to_csv('val.csv')\n",
    "train.to_csv('train.csv')"
   ]
  },
  {
   "cell_type": "code",
   "execution_count": null,
   "id": "9ed7b59a",
   "metadata": {},
   "outputs": [],
   "source": []
  }
 ],
 "metadata": {
  "kernelspec": {
   "display_name": "Python 3 (ipykernel)",
   "language": "python",
   "name": "python3"
  },
  "language_info": {
   "codemirror_mode": {
    "name": "ipython",
    "version": 3
   },
   "file_extension": ".py",
   "mimetype": "text/x-python",
   "name": "python",
   "nbconvert_exporter": "python",
   "pygments_lexer": "ipython3",
   "version": "3.8.10"
  }
 },
 "nbformat": 4,
 "nbformat_minor": 5
}
